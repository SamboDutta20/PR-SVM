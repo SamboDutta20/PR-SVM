{
 "cells": [
  {
   "cell_type": "markdown",
   "metadata": {
    "colab_type": "text",
    "id": "mG2NV7YiFHyc"
   },
   "source": [
    "Importing the Fashion MNIST data from keras and diving it into training and testing data\n"
   ]
  },
  {
   "cell_type": "code",
   "execution_count": 1,
   "metadata": {
    "colab": {
     "base_uri": "https://localhost:8080/",
     "height": 80
    },
    "colab_type": "code",
    "id": "nSpzFxwc9jyw",
    "outputId": "245e94ea-861c-49d2-d803-89f41449ab37"
   },
   "outputs": [
    {
     "name": "stderr",
     "output_type": "stream",
     "text": [
      "Using TensorFlow backend.\n"
     ]
    }
   ],
   "source": [
    "from keras.datasets import mnist\n",
    "\n",
    "(x_train, y_train), (x_test, y_test) = mnist.load_data()"
   ]
  },
  {
   "cell_type": "code",
   "execution_count": 2,
   "metadata": {
    "colab": {
     "base_uri": "https://localhost:8080/",
     "height": 34
    },
    "colab_type": "code",
    "id": "QoYtz7UDFq8o",
    "outputId": "21079c6a-59d6-4c2d-e6e2-5a801e932c07"
   },
   "outputs": [
    {
     "data": {
      "text/plain": [
       "((60000, 28, 28), (60000,))"
      ]
     },
     "execution_count": 2,
     "metadata": {},
     "output_type": "execute_result"
    }
   ],
   "source": [
    "x_train.shape, y_train.shape"
   ]
  },
  {
   "cell_type": "code",
   "execution_count": 3,
   "metadata": {
    "colab": {
     "base_uri": "https://localhost:8080/",
     "height": 34
    },
    "colab_type": "code",
    "id": "YB51gtH_F3gn",
    "outputId": "f6cfc97a-31f9-4e2f-9258-acad508ddd5d"
   },
   "outputs": [
    {
     "data": {
      "text/plain": [
       "((10000, 28, 28), (10000,))"
      ]
     },
     "execution_count": 3,
     "metadata": {},
     "output_type": "execute_result"
    }
   ],
   "source": [
    "x_test.shape,y_test.shape"
   ]
  },
  {
   "cell_type": "markdown",
   "metadata": {
    "colab_type": "text",
    "id": "r9yf6oDSFdwY"
   },
   "source": [
    "Reshaping the data to 1-D vector to feed to the model\n",
    "We are also normalising the data to 0-1scale using preprocessing class \n",
    "\n",
    "\n",
    "\n"
   ]
  },
  {
   "cell_type": "code",
   "execution_count": 4,
   "metadata": {
    "colab": {},
    "colab_type": "code",
    "id": "SqXJR5g1-DNZ"
   },
   "outputs": [],
   "source": [
    "from sklearn import model_selection, svm, preprocessing"
   ]
  },
  {
   "cell_type": "code",
   "execution_count": 5,
   "metadata": {
    "colab": {},
    "colab_type": "code",
    "id": "s7yi4_xG-GdV"
   },
   "outputs": [],
   "source": [
    "x_train=x_train.reshape(60000,784)\n",
    "x_test=x_test.reshape(10000,784)\n",
    "x_train = preprocessing.scale(x_train)\n",
    "x_test = preprocessing.scale(x_test)"
   ]
  },
  {
   "cell_type": "markdown",
   "metadata": {
    "colab_type": "text",
    "id": "ahNfOP-yIN0W"
   },
   "source": [
    "Fitting the SVM model to the training datasets x_train,y_train where y_train are the class labels"
   ]
  },
  {
   "cell_type": "code",
   "execution_count": 6,
   "metadata": {
    "colab": {
     "base_uri": "https://localhost:8080/",
     "height": 85
    },
    "colab_type": "code",
    "id": "oRfMBnRWATZV",
    "outputId": "fab0f962-85e9-443f-a356-d5ea2d75b913"
   },
   "outputs": [
    {
     "data": {
      "text/plain": [
       "SVC(C=1.0, cache_size=200, class_weight=None, coef0=0.0,\n",
       "    decision_function_shape='ovr', degree=3, gamma='auto_deprecated',\n",
       "    kernel='linear', max_iter=-1, probability=False, random_state=None,\n",
       "    shrinking=True, tol=0.001, verbose=False)"
      ]
     },
     "execution_count": 6,
     "metadata": {},
     "output_type": "execute_result"
    }
   ],
   "source": [
    "linear_svm=svm.SVC(kernel='linear')\n",
    "linear_svm.fit(x_train,y_train)"
   ]
  },
  {
   "cell_type": "markdown",
   "metadata": {
    "colab_type": "text",
    "id": "UmnHvXbcIv1U"
   },
   "source": [
    "The variable predictions is storing the classes predicted by the SVM model"
   ]
  },
  {
   "cell_type": "code",
   "execution_count": 7,
   "metadata": {
    "colab": {},
    "colab_type": "code",
    "id": "xVE5u4tREWYs"
   },
   "outputs": [],
   "source": [
    "predictions = linear_svm.predict(x_test)"
   ]
  },
  {
   "cell_type": "markdown",
   "metadata": {
    "colab_type": "text",
    "id": "PY6fgqqxI5_E"
   },
   "source": [
    "Importing the class metrics for evaluation of the model"
   ]
  },
  {
   "cell_type": "code",
   "execution_count": 8,
   "metadata": {
    "colab": {},
    "colab_type": "code",
    "id": "w9k3gul6E3UE"
   },
   "outputs": [],
   "source": [
    "from sklearn import metrics"
   ]
  },
  {
   "cell_type": "markdown",
   "metadata": {
    "colab_type": "text",
    "id": "pe5cYrQdJNcU"
   },
   "source": [
    "Creating the confusion matrix , where the diagonal of the matrix represnets the classes correctly predicted by the SVM model"
   ]
  },
  {
   "cell_type": "code",
   "execution_count": 9,
   "metadata": {
    "colab": {},
    "colab_type": "code",
    "id": "lN_xHoX2Ep9R"
   },
   "outputs": [],
   "source": [
    "con_matrix = metrics.confusion_matrix(y_true = y_test, y_pred = predictions)"
   ]
  },
  {
   "cell_type": "code",
   "execution_count": 10,
   "metadata": {
    "colab": {
     "base_uri": "https://localhost:8080/",
     "height": 187
    },
    "colab_type": "code",
    "id": "9AYpc-IMMF5L",
    "outputId": "ec93d200-2714-448b-942f-52f5f1976194"
   },
   "outputs": [
    {
     "name": "stdout",
     "output_type": "stream",
     "text": [
      "[[ 953    0    6    2    1    8    6    2    1    1]\n",
      " [   0 1118    7    2    0    1    2    1    4    0]\n",
      " [   9   12  956   11    9    4    5    5   18    3]\n",
      " [   7    1   15  940    0   17    1    6   19    4]\n",
      " [   3    2   18    1  927    0    3    6    3   19]\n",
      " [   7    6    7   40    5  791   12    1   20    3]\n",
      " [  14    3   17    1    9   19  892    0    3    0]\n",
      " [   2    8   23   14   11    2    0  945    2   21]\n",
      " [  11    7   10   29    8   23    8    6  860   12]\n",
      " [   9    7    6   11   38    5    0   23   12  898]]\n"
     ]
    }
   ],
   "source": [
    "print(con_matrix)"
   ]
  },
  {
   "cell_type": "markdown",
   "metadata": {
    "colab_type": "text",
    "id": "KONjUVXqJdSM"
   },
   "source": [
    "Calculating the accuracy of the model"
   ]
  },
  {
   "cell_type": "code",
   "execution_count": 11,
   "metadata": {
    "colab": {
     "base_uri": "https://localhost:8080/",
     "height": 34
    },
    "colab_type": "code",
    "id": "C6hZ0zP_E-4i",
    "outputId": "2acee019-c520-4f79-c991-b47f39093434"
   },
   "outputs": [
    {
     "name": "stdout",
     "output_type": "stream",
     "text": [
      "0.928\n"
     ]
    }
   ],
   "source": [
    "acc=metrics.accuracy_score(y_test,predictions)\n",
    "print(acc)"
   ]
  },
  {
   "cell_type": "markdown",
   "metadata": {
    "colab_type": "text",
    "id": "g7eBMQ_jNB4z"
   },
   "source": [
    "Importing class for cross validation"
   ]
  },
  {
   "cell_type": "code",
   "execution_count": 12,
   "metadata": {
    "colab": {},
    "colab_type": "code",
    "id": "iQDtFTYtM2SB"
   },
   "outputs": [],
   "source": [
    "from sklearn.model_selection import cross_val_score"
   ]
  },
  {
   "cell_type": "markdown",
   "metadata": {
    "colab_type": "text",
    "id": "6vZ7xrIsPp2i"
   },
   "source": [
    "Tuning Hyperparameter C, and varying its value. We are also using K-Cross validation to evaluate the model "
   ]
  },
  {
   "cell_type": "code",
   "execution_count": 13,
   "metadata": {
    "colab": {},
    "colab_type": "code",
    "id": "5V6Z543xN8M5"
   },
   "outputs": [],
   "source": [
    "c=[0.5,1,1.5,3,5,10]\n",
    "M=[]"
   ]
  },
  {
   "cell_type": "code",
   "execution_count": 14,
   "metadata": {
    "colab": {},
    "colab_type": "code",
    "id": "lZfcuKiKORtH"
   },
   "outputs": [],
   "source": [
    "for i in range(len(c)):\n",
    "  svm_model=svm.SVC(kernel=\"linear\",C=c[i])\n",
    "  M.append(cross_val_score(svm_model, x_train, y_train, cv=4))\n",
    "\n",
    "  "
   ]
  },
  {
   "cell_type": "code",
   "execution_count": 20,
   "metadata": {},
   "outputs": [],
   "source": [
    "import numpy as np\n",
    "\n",
    "means=[np.mean(x) for x in M]"
   ]
  },
  {
   "cell_type": "code",
   "execution_count": 21,
   "metadata": {},
   "outputs": [
    {
     "data": {
      "text/plain": [
       "[0.9212168416572191,\n",
       " 0.918983685915749,\n",
       " 0.9179837114084166,\n",
       " 0.9164670857403479,\n",
       " 0.9154837056793017,\n",
       " 0.9140836100304102]"
      ]
     },
     "execution_count": 21,
     "metadata": {},
     "output_type": "execute_result"
    }
   ],
   "source": [
    "means"
   ]
  },
  {
   "cell_type": "markdown",
   "metadata": {},
   "source": [
    "Plotting Cross Validation for different value of C"
   ]
  },
  {
   "cell_type": "code",
   "execution_count": 26,
   "metadata": {},
   "outputs": [
    {
     "data": {
      "image/png": "[encoded data removed]",
      "text/plain": [
       "<Figure size 432x288 with 1 Axes>"
      ]
     },
     "metadata": {
      "needs_background": "light"
     },
     "output_type": "display_data"
    }
   ],
   "source": [
    "import matplotlib.pyplot as plt\n",
    "\n",
    "plt.plot(c,means,'bo')\n",
    "plt.plot(c,means)\n",
    "plt.title('Variation of Cross Validation Scores with parameter C')\n",
    "plt.xlabel('Hyper-parameter C')\n",
    "plt.ylabel('Cross-Validation Scores')\n",
    "plt.show()"
   ]
  },
  {
   "cell_type": "code",
   "execution_count": null,
   "metadata": {},
   "outputs": [],
   "source": []
  }
 ],
 "metadata": {
  "accelerator": "GPU",
  "colab": {
   "collapsed_sections": [],
   "name": "Project2SVM.ipynb",
   "provenance": []
  },
  "kernelspec": {
   "display_name": "Python 3",
   "language": "python",
   "name": "python3"
  },
  "language_info": {
   "codemirror_mode": {
    "name": "ipython",
    "version": 3
   },
   "file_extension": ".py",
   "mimetype": "text/x-python",
   "name": "python",
   "nbconvert_exporter": "python",
   "pygments_lexer": "ipython3",
   "version": "3.7.4"
  }
 },
 "nbformat": 4,
 "nbformat_minor": 1
}
